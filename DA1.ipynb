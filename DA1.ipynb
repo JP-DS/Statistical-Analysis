{
 "cells": [
  {
   "cell_type": "code",
   "execution_count": 3,
   "id": "01278c84",
   "metadata": {},
   "outputs": [],
   "source": [
    "import numpy as np\n",
    "import pandas as pd\n",
    "from scipy import stats"
   ]
  },
  {
   "cell_type": "code",
   "execution_count": 62,
   "id": "0c4a98b8",
   "metadata": {},
   "outputs": [],
   "source": [
    "# Load the dataset\n",
    "file_path = './movieReplicationSet.csv'\n",
    "df = pd.read_csv(file_path)"
   ]
  },
  {
   "cell_type": "code",
   "execution_count": 5,
   "id": "84110655",
   "metadata": {},
   "outputs": [],
   "source": [
    "# Create a copy of the original dataset to keep missing values intact\n",
    "df_original = df.copy()\n",
    "\n",
    "# Create another copy for imputation\n",
    "df_imputed = df.copy()\n",
    "\n",
    "# Identify only the movie rating columns (1-400 according to the assignment description)\n",
    "movie_columns = df.columns[:400]\n",
    "\n",
    "# Replace missing values with the median of each respective column for movie ratings\n",
    "df_imputed[movie_columns] = df_imputed[movie_columns].apply(lambda x: x.fillna(x.median()), axis=0)"
   ]
  },
  {
   "cell_type": "markdown",
   "id": "7306552e",
   "metadata": {},
   "source": [
    "Q1: We use Welch t-test here because it's safer to assume that the variances and sample sizes could be unequal between high-popularity and low-popularity movies. Given that the p-value is significantly less than our significance level \n",
    "α=0.005, we reject the null hypothesis. This suggests that newer movies are rated differently than older movies, although the difference in average ratings is quite small."
   ]
  },
  {
   "cell_type": "code",
   "execution_count": 10,
   "id": "75ddcb5a",
   "metadata": {},
   "outputs": [
    {
     "data": {
      "text/plain": [
       "(2.8683159282110724, 2.400922845130662, 56.74324476674133, 0.0)"
      ]
     },
     "execution_count": 10,
     "metadata": {},
     "output_type": "execute_result"
    }
   ],
   "source": [
    "# Calculate the number of ratings for each movie in the original dataset\n",
    "num_ratings = df_original[movie_columns].count()\n",
    "\n",
    "# Perform a median-split to categorize movies as 'high popularity' or 'low popularity'\n",
    "median_num_ratings = num_ratings.median()\n",
    "high_popularity_movies = num_ratings[num_ratings > median_num_ratings].index\n",
    "low_popularity_movies = num_ratings[num_ratings <= median_num_ratings].index\n",
    "\n",
    "# Calculate the average rating for 'high popularity' and 'low popularity' movies\n",
    "avg_rating_high_popularity = df_original[high_popularity_movies].mean().mean()\n",
    "avg_rating_low_popularity = df_original[low_popularity_movies].mean().mean()\n",
    "\n",
    "# Perform a t-test to compare the average ratings of 'high popularity' and 'low popularity' movies\n",
    "# We'll flatten the data and remove NaN values for the t-test\n",
    "high_popularity_ratings = df_original[high_popularity_movies].values.flatten()\n",
    "high_popularity_ratings = high_popularity_ratings[~np.isnan(high_popularity_ratings)]\n",
    "\n",
    "low_popularity_ratings = df_original[low_popularity_movies].values.flatten()\n",
    "low_popularity_ratings = low_popularity_ratings[~np.isnan(low_popularity_ratings)]\n",
    "\n",
    "t_stat, p_value = stats.ttest_ind(high_popularity_ratings, low_popularity_ratings, equal_var=False)\n",
    "\n",
    "avg_rating_high_popularity, avg_rating_low_popularity, t_stat, p_value\n"
   ]
  },
  {
   "cell_type": "markdown",
   "id": "d28fbb0d",
   "metadata": {},
   "source": [
    "Q2: Same reaon as in Q1, we use the welch t-test here, Given that the p-value is significantly less than our significance level α = 0.005, we reject the null hypothesis. This suggests that newer movies are rated differently than older movies, although the difference in average ratings is quite small."
   ]
  },
  {
   "cell_type": "code",
   "execution_count": 11,
   "id": "58947153",
   "metadata": {},
   "outputs": [
    {
     "data": {
      "text/plain": [
       "(2.7882836157126545,\n",
       " 2.748159703455119,\n",
       " 20.106371466938946,\n",
       " 7.210714168171186e-90)"
      ]
     },
     "execution_count": 11,
     "metadata": {},
     "output_type": "execute_result"
    }
   ],
   "source": [
    "import re\n",
    "\n",
    "# Extract the release year from the movie titles\n",
    "release_years = df_imputed.columns[:400].to_series().str.extract(r'\\((\\d{4})\\)')[0].astype(float)\n",
    "\n",
    "# Drop movies where we couldn't extract a release year\n",
    "valid_movie_columns = release_years.dropna().index\n",
    "\n",
    "# Perform a median-split to categorize movies as 'new' or 'old'\n",
    "median_release_year = release_years.dropna().median()\n",
    "new_movies = release_years[release_years > median_release_year].index\n",
    "old_movies = release_years[release_years <= median_release_year].index\n",
    "\n",
    "# Calculate the average rating for 'new' and 'old' movies\n",
    "avg_rating_new_movies = df_imputed[new_movies].mean().mean()\n",
    "avg_rating_old_movies = df_imputed[old_movies].mean().mean()\n",
    "\n",
    "# Perform a t-test to compare the average ratings of 'new' and 'old' movies\n",
    "# We'll flatten the data for the t-test\n",
    "new_movies_ratings = df_imputed[new_movies].values.flatten()\n",
    "old_movies_ratings = df_imputed[old_movies].values.flatten()\n",
    "\n",
    "t_stat_new_old, p_value_new_old = stats.ttest_ind(new_movies_ratings, old_movies_ratings, equal_var=False)\n",
    "\n",
    "avg_rating_new_movies, avg_rating_old_movies, t_stat_new_old, p_value_new_old\n"
   ]
  },
  {
   "cell_type": "markdown",
   "id": "e8eb8d40",
   "metadata": {},
   "source": [
    "Q3: Welch t-test, p >> alpha, no difference in the rating for shrek between male and female"
   ]
  },
  {
   "cell_type": "code",
   "execution_count": 63,
   "id": "a04f943d",
   "metadata": {},
   "outputs": [
    {
     "data": {
      "text/plain": [
       "(3.155450874831763, 3.08298755186722, 1.1558907155973421, 0.24834907946281018)"
      ]
     },
     "execution_count": 63,
     "metadata": {},
     "output_type": "execute_result"
    }
   ],
   "source": [
    "# Isolate the ratings for 'Shrek (2001)'\n",
    "shrek_ratings = df_original['Shrek (2001)'].dropna()\n",
    "\n",
    "# Separate these ratings based on gender (1 = female, 2 = male)\n",
    "gender_column = 'Gender identity (1 = female; 2 = male; 3 = self-described)'\n",
    "shrek_ratings_gender = df_original.loc[shrek_ratings.index, [gender_column, 'Shrek (2001)']]\n",
    "shrek_ratings_female = shrek_ratings_gender[shrek_ratings_gender[gender_column] == 1]['Shrek (2001)']\n",
    "shrek_ratings_male = shrek_ratings_gender[shrek_ratings_gender[gender_column] == 2]['Shrek (2001)']\n",
    "\n",
    "# Calculate the average rating for male and female viewers\n",
    "avg_rating_shrek_female = shrek_ratings_female.mean()\n",
    "avg_rating_shrek_male = shrek_ratings_male.mean()\n",
    "\n",
    "# Perform a t-test to compare the average ratings between male and female viewers\n",
    "t_stat_shrek, p_value_shrek = stats.ttest_ind(shrek_ratings_female, shrek_ratings_male, equal_var=False, nan_policy='omit')\n",
    "\n",
    "avg_rating_shrek_female, avg_rating_shrek_male, t_stat_shrek, p_value_shrek\n"
   ]
  },
  {
   "cell_type": "code",
   "execution_count": 25,
   "id": "cb77e959",
   "metadata": {},
   "outputs": [
    {
     "data": {
      "text/plain": [
       "(3.1827757125154896,\n",
       " 3.1134615384615385,\n",
       " 2.087516112530672,\n",
       " 0.037573658853460555)"
      ]
     },
     "execution_count": 25,
     "metadata": {},
     "output_type": "execute_result"
    }
   ],
   "source": [
    "shrek_ratings_female = df_imputed['Shrek (2001)'][df_imputed[gender_column] == 1]\n",
    "shrek_ratings_male = df_imputed['Shrek (2001)'][df_imputed[gender_column] == 2]\n",
    "\n",
    "# Perform t-test and omit NaN values\n",
    "t_stat, p_value = stats.ttest_ind(ratings_female, ratings_male, equal_var=False, nan_policy='omit')\n",
    "\n",
    "shrek_ratings_female.mean(), shrek_ratings_male.mean(), t_stat, p_value"
   ]
  },
  {
   "cell_type": "markdown",
   "id": "0f7545bd",
   "metadata": {},
   "source": [
    "Q4 around 7%"
   ]
  },
  {
   "cell_type": "code",
   "execution_count": 46,
   "id": "f14aa42a",
   "metadata": {},
   "outputs": [
    {
     "data": {
      "text/plain": [
       "(27, 0.0675)"
      ]
     },
     "execution_count": 46,
     "metadata": {},
     "output_type": "execute_result"
    }
   ],
   "source": [
    "count_diff_ratings = 0\n",
    "\n",
    "# Loop through each movie and perform a t-test comparing ratings by male and female viewers\n",
    "for movie in movie_columns:\n",
    "    ratings_female = df_imputed[movie][df_imputed[gender_column] == 1]\n",
    "    ratings_male = df_imputed[movie][df_imputed[gender_column] == 2]\n",
    "    \n",
    "    # Perform t-test and omit NaN values\n",
    "    t_stat, p_value = stats.ttest_ind(ratings_female, ratings_male, equal_var=False, nan_policy='omit')\n",
    "    \n",
    "    # Check if the difference is statistically significant\n",
    "    if p_value < 0.005:\n",
    "        count_diff_ratings += 1\n",
    "\n",
    "# Calculate the proportion of movies that are rated differently by gender\n",
    "proportion_diff_ratings = count_diff_ratings / len(movie_columns)\n",
    "\n",
    "count_diff_ratings, proportion_diff_ratings"
   ]
  },
  {
   "cell_type": "markdown",
   "id": "314d17e3",
   "metadata": {},
   "source": [
    "Q5 "
   ]
  },
  {
   "cell_type": "code",
   "execution_count": 37,
   "id": "750b4f8d",
   "metadata": {},
   "outputs": [
    {
     "data": {
      "text/plain": [
       "0.06246490747619668"
      ]
     },
     "execution_count": 37,
     "metadata": {},
     "output_type": "execute_result"
    }
   ],
   "source": [
    "# Extract the ratings for 'The Lion King (1994)'\n",
    "lion_king_ratings = df_imputed['The Lion King (1994)']  # Replace with the exact column name for this movie in your dataset\n",
    "\n",
    "# Separate these ratings based on whether the respondent is an only child (assuming the column name is 'Only child')\n",
    "ratings_only_child = lion_king_ratings[df_imputed['Are you an only child? (1: Yes; 0: No; -1: Did not respond)'] == 1]\n",
    "ratings_with_siblings = lion_king_ratings[df_imputed['Are you an only child? (1: Yes; 0: No; -1: Did not respond)'] == 0]\n",
    "\n",
    "# Calculate the average ratings for each group\n",
    "avg_rating_only_child = ratings_only_child.mean()\n",
    "avg_rating_with_siblings = ratings_with_siblings.mean()\n",
    "\n",
    "# Perform a t-test to compare the average ratings between the two groups\n",
    "t_stat, p_value = stats.ttest_ind(ratings_only_child, ratings_with_siblings, equal_var=False, nan_policy='omit')\n",
    "\n",
    "p_value"
   ]
  },
  {
   "cell_type": "markdown",
   "id": "d65719bd",
   "metadata": {},
   "source": [
    "Q6"
   ]
  },
  {
   "cell_type": "code",
   "execution_count": 40,
   "id": "7b1b0c7d",
   "metadata": {},
   "outputs": [
    {
     "data": {
      "text/plain": [
       "0.0075"
      ]
     },
     "execution_count": 40,
     "metadata": {},
     "output_type": "execute_result"
    }
   ],
   "source": [
    "count_only_child_effect = 0\n",
    "\n",
    "# Loop through each movie and perform a t-test comparing ratings by viewers who are only children vs those who have siblings\n",
    "for movie in df_imputed.columns[:400]:  # Assuming the first 400 columns are movie ratings\n",
    "    ratings_only_child = df_imputed[movie][df_imputed['Are you an only child? (1: Yes; 0: No; -1: Did not respond)'] == 1]\n",
    "    ratings_with_siblings = df_imputed[movie][df_imputed['Are you an only child? (1: Yes; 0: No; -1: Did not respond)'] == 0]\n",
    "    \n",
    "    # Perform a t-test and omit NaN values\n",
    "    t_stat, p_value = stats.ttest_ind(ratings_only_child, ratings_with_siblings, equal_var=False, nan_policy='omit')\n",
    "    \n",
    "    # Check if the difference is statistically significant (using alpha = 0.005 as per the project guidelines)\n",
    "    if p_value < 0.005:\n",
    "        count_only_child_effect += 1\n",
    "\n",
    "# Calculate the proportion of movies that exhibit an \"only child effect\"\n",
    "proportion_only_child_effect = count_only_child_effect / 400  # Assuming 400 movies in the dataset\n",
    "\n",
    "proportion_only_child_effect"
   ]
  },
  {
   "cell_type": "code",
   "execution_count": 42,
   "id": "49182d2f",
   "metadata": {},
   "outputs": [
    {
     "data": {
      "text/plain": [
       "'Movies are best enjoyed alone (1: Yes; 0: No; -1: Did not respond)'"
      ]
     },
     "execution_count": 42,
     "metadata": {},
     "output_type": "execute_result"
    }
   ],
   "source": [
    "df.columns[476]"
   ]
  },
  {
   "cell_type": "markdown",
   "id": "9b3df6d4",
   "metadata": {},
   "source": [
    "Q7"
   ]
  },
  {
   "cell_type": "code",
   "execution_count": 44,
   "id": "0600f796",
   "metadata": {},
   "outputs": [
    {
     "data": {
      "text/plain": [
       "0.33796312028022846"
      ]
     },
     "execution_count": 44,
     "metadata": {},
     "output_type": "execute_result"
    }
   ],
   "source": [
    "# Extract the ratings for 'The Wolf of Wall Street (2013)'\n",
    "wolf_ratings = df_imputed['The Wolf of Wall Street (2013)']  # Replace with the exact column name in your dataset\n",
    "\n",
    "# Separate these ratings based on whether the viewer prefers to watch movies socially or alone\n",
    "ratings_social = wolf_ratings[df_imputed['Movies are best enjoyed alone (1: Yes; 0: No; -1: Did not respond)'] == 0]\n",
    "ratings_alone = wolf_ratings[df_imputed['Movies are best enjoyed alone (1: Yes; 0: No; -1: Did not respond)'] == 1]\n",
    "\n",
    "# Perform a t-test to compare the average ratings between the two groups\n",
    "t_stat, p_value = stats.ttest_ind(ratings_social, ratings_alone, equal_var=False, nan_policy='omit')\n",
    "\n",
    "p_value"
   ]
  },
  {
   "cell_type": "markdown",
   "id": "62f36594",
   "metadata": {},
   "source": [
    "Q8"
   ]
  },
  {
   "cell_type": "code",
   "execution_count": 48,
   "id": "067c613c",
   "metadata": {},
   "outputs": [
    {
     "data": {
      "text/plain": [
       "0.01"
      ]
     },
     "execution_count": 48,
     "metadata": {},
     "output_type": "execute_result"
    }
   ],
   "source": [
    "# Initialize a counter for movies that exhibit a \"social watching\" effect\n",
    "count_social_watching_effect = 0\n",
    "\n",
    "# Loop through each movie and perform a t-test comparing ratings by viewers who prefer to watch movies socially vs those who prefer to watch alone\n",
    "for movie in df_imputed.columns[:400]:  # Assuming the first 400 columns are movie ratings\n",
    "    ratings_social = df_imputed[movie][df_imputed['Movies are best enjoyed alone (1: Yes; 0: No; -1: Did not respond)'] == 0]\n",
    "    ratings_alone = df_imputed[movie][df_imputed['Movies are best enjoyed alone (1: Yes; 0: No; -1: Did not respond)'] == 1]\n",
    "    \n",
    "    # Perform a t-test and omit NaN values\n",
    "    t_stat, p_value = stats.ttest_ind(ratings_social, ratings_alone, equal_var=False, nan_policy='omit')\n",
    "    \n",
    "    # Check if the difference is statistically significant\n",
    "    if p_value < 0.005:\n",
    "        count_social_watching_effect += 1\n",
    "\n",
    "# Calculate the proportion of movies that exhibit a \"social watching\" effect\n",
    "proportion_social_watching_effect = count_social_watching_effect / 400  # Assuming 400 movies in the dataset\n",
    "\n",
    "proportion_social_watching_effect"
   ]
  },
  {
   "cell_type": "markdown",
   "id": "045c7bef",
   "metadata": {},
   "source": [
    "Q9 here we use KS test to test difference in distribution"
   ]
  },
  {
   "cell_type": "code",
   "execution_count": 50,
   "id": "38225f47",
   "metadata": {},
   "outputs": [
    {
     "data": {
      "text/plain": [
       "4.816411619080073e-12"
      ]
     },
     "execution_count": 50,
     "metadata": {},
     "output_type": "execute_result"
    }
   ],
   "source": [
    "# Extract the ratings for 'Home Alone (1990)' and 'Finding Nemo (2003)'\n",
    "home_alone_ratings = df_imputed['Home Alone (1990)']  # Replace with the exact column name in your dataset\n",
    "finding_nemo_ratings = df_imputed['Finding Nemo (2003)']  # Replace with the exact column name in your dataset\n",
    "\n",
    "# Perform a two-sample Kolmogorov-Smirnov test to compare the distributions\n",
    "ks_stat, p_value = stats.ks_2samp(home_alone_ratings, finding_nemo_ratings)\n",
    "p_value"
   ]
  },
  {
   "cell_type": "markdown",
   "id": "8e44f230",
   "metadata": {},
   "source": [
    "Q10"
   ]
  },
  {
   "cell_type": "code",
   "execution_count": 58,
   "id": "e40e0533",
   "metadata": {},
   "outputs": [
    {
     "data": {
      "text/plain": [
       "['Star Wars',\n",
       " 'The Matrix',\n",
       " 'Indiana Jones',\n",
       " 'Jurassic Park',\n",
       " 'Pirates of the Caribbean',\n",
       " 'Toy Story',\n",
       " 'Batman']"
      ]
     },
     "execution_count": 58,
     "metadata": {},
     "output_type": "execute_result"
    }
   ],
   "source": [
    "# List of keywords for franchises\n",
    "franchises = ['Star Wars', 'Harry Potter', 'The Matrix', 'Indiana Jones', 'Jurassic Park', 'Pirates of the Caribbean', 'Toy Story', 'Batman']\n",
    "\n",
    "# Initialize a list to store franchises of inconsistent quality\n",
    "inconsistent_franchises_anova = []\n",
    "\n",
    "# Loop through each franchise and perform one-way ANOVA\n",
    "for franchise in franchises:\n",
    "    # Identify columns (movies) belonging to this franchise\n",
    "    franchise_movies = [col for col in df_imputed.columns if franchise in col]\n",
    "    \n",
    "    # Extract ratings for these movies\n",
    "    franchise_ratings = [df_imputed[movie] for movie in franchise_movies]\n",
    "\n",
    "    # Perform one-way ANOVA\n",
    "    f_stat, p_value = stats.f_oneway(*franchise_ratings)\n",
    "    \n",
    "    # Interpret the result\n",
    "    if p_value < 0.005:\n",
    "        inconsistent_franchises_anova.append(franchise)\n",
    "inconsistent_franchises_anova"
   ]
  },
  {
   "cell_type": "code",
   "execution_count": 59,
   "id": "bdfc5a56",
   "metadata": {},
   "outputs": [
    {
     "data": {
      "text/plain": [
       "'I enjoy doing things without too much planning '"
      ]
     },
     "execution_count": 59,
     "metadata": {},
     "output_type": "execute_result"
    }
   ],
   "source": [
    "df.columns[405]"
   ]
  },
  {
   "cell_type": "markdown",
   "id": "8d288146",
   "metadata": {},
   "source": [
    "Extra bonus: to see whether people enjoy doing things without too much planning rate movies differently with those who like planning"
   ]
  },
  {
   "cell_type": "code",
   "execution_count": 61,
   "id": "7376b32c",
   "metadata": {},
   "outputs": [
    {
     "name": "stdout",
     "output_type": "stream",
     "text": [
      "Number of movies that are rated differently by the two groups: 2\n",
      "Proportion of movies that are rated differently by the two groups: 0.005\n"
     ]
    }
   ],
   "source": [
    "# Initialize a counter for movies that are rated differently by the two groups\n",
    "count_diff_ratings = 0\n",
    "\n",
    "# Loop through each movie and perform a t-test comparing ratings by the two groups\n",
    "for movie in df_imputed.columns[:400]:  # Assuming the first 400 columns are movie ratings\n",
    "    ratings_planning = df_imputed[movie][df_imputed['I enjoy doing things without too much planning '] >= 4]  # Adjust the threshold as needed\n",
    "    ratings_no_planning = df_imputed[movie][df_imputed['I enjoy doing things without too much planning '] <= 2]  # Adjust the threshold as needed\n",
    "    \n",
    "    # Perform a t-test and omit NaN values\n",
    "    t_stat, p_value = stats.ttest_ind(ratings_planning, ratings_no_planning, equal_var=False, nan_policy='omit')\n",
    "    \n",
    "    # Check if the difference is statistically significant\n",
    "    if p_value < 0.005:\n",
    "        count_diff_ratings += 1\n",
    "\n",
    "# Calculate the proportion of movies that are rated differently by the two groups\n",
    "proportion_diff_ratings = count_diff_ratings / 400  # Assuming 400 movies in the dataset\n",
    "\n",
    "print(f\"Number of movies that are rated differently by the two groups: {count_diff_ratings}\")\n",
    "print(f\"Proportion of movies that are rated differently by the two groups: {proportion_diff_ratings}\")"
   ]
  },
  {
   "cell_type": "code",
   "execution_count": null,
   "id": "a296a0fa",
   "metadata": {},
   "outputs": [],
   "source": []
  }
 ],
 "metadata": {
  "kernelspec": {
   "display_name": "Python 3 (ipykernel)",
   "language": "python",
   "name": "python3"
  },
  "language_info": {
   "codemirror_mode": {
    "name": "ipython",
    "version": 3
   },
   "file_extension": ".py",
   "mimetype": "text/x-python",
   "name": "python",
   "nbconvert_exporter": "python",
   "pygments_lexer": "ipython3",
   "version": "3.11.5"
  }
 },
 "nbformat": 4,
 "nbformat_minor": 5
}
